{
 "cells": [
  {
   "cell_type": "markdown",
   "metadata": {},
   "source": [
    "##  2. Configuration Space\n",
    "\n",
    "All the robots are built by bodies called **links** conected by different types of **joints**, In each join there is an **actuator**, usually, an electric motor that delivers the forces and torques that allow the movement, In many cases there will be an **end -Effector** like a gripper, a magnet or even a welder that allows the robot to manipulate objects."
   ]
  },
  {
   "cell_type": "markdown",
   "metadata": {},
   "source": [
    "<img src='img_robotics/simple_robot.png' alt=\"Simple Robot\" width=400px>"
   ]
  },
  {
   "cell_type": "markdown",
   "metadata": {},
   "source": [
    "Find the position of the robot is a key task, the position is given by the **configuration** created by all the point in the space, it is only necessary a few points and angles to know which it is. There are two important definitions that appear from this idea.\n",
    "\n",
    "\n",
    "* **C-space**  defines the n-dimentional space that contains all the possible configurations of the robot.\n",
    "* **Degrees of Freedom (DOF)** is the smallest number of real-values coordinates that represent that configuration."
   ]
  },
  {
   "cell_type": "markdown",
   "metadata": {},
   "source": [
    "<img src='img_robotics/c_space_NB6.png' alt=\"C_spaceOrWorkspace\" width=700px>"
   ]
  },
  {
   "cell_type": "markdown",
   "metadata": {},
   "source": [
    "### 2.1 Degrees of Freedom of a rigid Body (DOF)\n",
    "\n",
    "\n"
   ]
  },
  {
   "cell_type": "markdown",
   "metadata": {},
   "source": [
    "By general rule the equation to define the degrees of freedeom of a rigid body is given by:\n",
    "\n",
    "  DOF = (Sum. of Freedoms of the points)  - (number of indepednt constants)\n",
    "  \n",
    "  or\n",
    "  \n",
    "  DOF = (Number of variables) - (number of indepdent equations)\n",
    "  \n",
    "\n",
    "It is important to keep in mind that a rigid boby moving in a 3D space has 6 degrees of freedom, and a 2D rigid body has only 3 degrees of freedom\n"
   ]
  },
  {
   "cell_type": "markdown",
   "metadata": {},
   "source": [
    "Degrees of Freedom of a Robot"
   ]
  },
  {
   "cell_type": "markdown",
   "metadata": {},
   "source": [
    "<img src='img_robotics/typical_robot_joints.png' alt=\"typical_robot_joints\" width=700px>\n"
   ]
  },
  {
   "cell_type": "markdown",
   "metadata": {},
   "source": [
    "<img src='img_robotics/dof_by_joint.png' alt=\"dof_by_joint\" width=500px>\n"
   ]
  },
  {
   "cell_type": "markdown",
   "metadata": {},
   "source": [
    "One of the ways to know the DOF of the Rigid body is using the Gluber Formula\n",
    "\n",
    "DOF = SUM(Freedoms of the Bodies) - (Number of indepdient constants)\n",
    "\n",
    "or \n",
    "\n",
    "DOF = m(N-1) - SUM(Ci)\n",
    "\n",
    "or\n",
    "\n",
    "DOF = M (N-1-J)+ SUM(fi)\n",
    "\n",
    "With:\n",
    "    \n",
    "    C = m - f\n",
    "\n",
    "\n",
    "Where: \n",
    "    \n",
    "    N = Number of bodies, including the ground.\n",
    "    J = Number of the joints\n",
    "    m = 6 for spatial bodies and 3 for planar\n",
    "    C = Constants\n"
   ]
  },
  {
   "cell_type": "markdown",
   "metadata": {},
   "source": [
    "Example:\n",
    "\n",
    "<img src='img_robotics/planar_mechanims.png' alt=\"planar_mechanims\" width=500px>\n",
    "\n",
    "m = 3\n",
    "N = 8, The Linear actuator counts twice because is join with a revolute joint.\n",
    "J= 9( 8 revolute joints and 1 Prismatic)\n",
    "\n",
    "\n",
    "DOF = 3(8-1-9) + 9 (1) = 3\n",
    "\n",
    "also it is possible to calculate the revolute and prismatic joint just like one, then we have:\n",
    "\n",
    "m = 3\n",
    "N = 7\n",
    "J = 8\n",
    "\n",
    "DOF = 3(7-1-8)+7(1)+ 1(2) = 3"
   ]
  },
  {
   "cell_type": "markdown",
   "metadata": {},
   "source": [
    "## 2.3 Configuration Space: Topology and Representation\n",
    "\n",
    "### 2.3 Configuration SpaceTopology\n",
    "\n",
    "Two spaces are topollogically eqivalent if one of them can be smoothy deformal to get the shape of the other one whitout cutting or gluing\n",
    "\n",
    "C-Space of some dimension can have  differente topologies. every c-space is created as the sum of diferent lower dimension spaces\n"
   ]
  },
  {
   "cell_type": "markdown",
   "metadata": {},
   "source": [
    "In a C- space we can choose any way to represent a coordinate without changing the space.\n",
    "\n",
    "P = [1 2 3] or P = [1 2 3]T "
   ]
  },
  {
   "cell_type": "markdown",
   "metadata": {},
   "source": [
    "<img src='img_robotics/configuration_space_represenation.png' alt=\"configuration_space_represenation\" width=500px>"
   ]
  },
  {
   "cell_type": "markdown",
   "metadata": {},
   "source": [
    "Usually we represent a point in the space using coordiantes, the change of that point in the time is going to be consider as the Speed.\n",
    "\n",
    "V = (hat(x),hat(y))\n",
    "\n",
    "when the space us curve like an spefere we can represent the as an explicit representation or an implicit representation\n",
    "\n",
    "\n",
    "##########ADD example\n",
    "\n",
    "A surface inside an eculciden soace is represented by x^2 + y^2 + z^2 = 1\n",
    "\n",
    "The spherical representation has some problemas like sometimes the logitudes changes fater or slower when the latitud does not and viseversa as when the corrdinate is near to the poles of the sphere\n",
    ", this kind of coordinates are mostly represetn with a implicit representation, but the speed it is not representeedd as the changes of the cordinates in the space"
   ]
  },
  {
   "cell_type": "code",
   "execution_count": null,
   "metadata": {},
   "outputs": [],
   "source": []
  }
 ],
 "metadata": {
  "kernelspec": {
   "display_name": "Python 3",
   "language": "python",
   "name": "python3"
  },
  "language_info": {
   "codemirror_mode": {
    "name": "ipython",
    "version": 3
   },
   "file_extension": ".py",
   "mimetype": "text/x-python",
   "name": "python",
   "nbconvert_exporter": "python",
   "pygments_lexer": "ipython3",
   "version": "3.7.4"
  }
 },
 "nbformat": 4,
 "nbformat_minor": 2
}
