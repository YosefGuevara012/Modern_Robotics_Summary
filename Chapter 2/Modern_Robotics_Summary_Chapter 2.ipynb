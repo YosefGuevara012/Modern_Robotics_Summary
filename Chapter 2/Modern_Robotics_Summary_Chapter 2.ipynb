{
 "cells": [
  {
   "cell_type": "markdown",
   "metadata": {},
   "source": [
    "##  2. Configuration Space\n",
    "\n",
    "All the robots are built by bodies called **links** conected by different types of **joints**, In each join there is an **actuator**, usually, an electric motor that delivers the forces and torques that allow the movement, In many cases there will be an **end -Effector** like a gripper, a magnet or even a welder that allows the robot to manipulate objects."
   ]
  },
  {
   "cell_type": "markdown",
   "metadata": {},
   "source": [
    "<img src='img_robotics/simple_robot.png' alt=\"Simple Robot\" width=400px>"
   ]
  },
  {
   "cell_type": "markdown",
   "metadata": {},
   "source": [
    "Find the position of the robot is a key task, the position is given by the **configuration** created by all the point in the space, it is only necessary a few points and angles to know which it is. There are two important definitions that appear from this idea.\n",
    "\n",
    "\n",
    "* **C-space**  defines the n-dimentional space that contains all the possible configurations of the robot.\n",
    "* **Degrees of Freedom (DOF)** is the smallest number of real-values coordinates that represent that configuration."
   ]
  },
  {
   "cell_type": "markdown",
   "metadata": {},
   "source": [
    "<img src='img_robotics/c_space_NB6.png' alt=\"C_spaceOrWorkspace\" width=700px>"
   ]
  },
  {
   "cell_type": "markdown",
   "metadata": {},
   "source": [
    "### 2.1 Degrees of Freedom of a rigid Body\n",
    "\n",
    "\n"
   ]
  },
  {
   "cell_type": "code",
   "execution_count": null,
   "metadata": {},
   "outputs": [],
   "source": []
  }
 ],
 "metadata": {
  "kernelspec": {
   "display_name": "Python 3",
   "language": "python",
   "name": "python3"
  },
  "language_info": {
   "codemirror_mode": {
    "name": "ipython",
    "version": 3
   },
   "file_extension": ".py",
   "mimetype": "text/x-python",
   "name": "python",
   "nbconvert_exporter": "python",
   "pygments_lexer": "ipython3",
   "version": "3.7.4"
  }
 },
 "nbformat": 4,
 "nbformat_minor": 2
}
